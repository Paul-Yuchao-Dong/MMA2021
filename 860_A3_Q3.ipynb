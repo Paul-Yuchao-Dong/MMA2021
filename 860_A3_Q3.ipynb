{
 "cells": [
  {
   "cell_type": "markdown",
   "metadata": {},
   "source": [
    "# Question 3"
   ]
  },
  {
   "cell_type": "code",
   "execution_count": 9,
   "metadata": {
    "scrolled": true
   },
   "outputs": [],
   "source": [
    "import pandas as pd\n",
    "import numpy as np\n",
    "import matplotlib.pyplot as mp\n",
    "## Load the dataset\n",
    "product_sales = pd.read_excel(\"860_A1_Q3_Upload.xlsx\")"
   ]
  },
  {
   "cell_type": "markdown",
   "metadata": {},
   "source": [
    "a.)  Make sure all variable formats are correct, and that Product_IDs are all of the same length, and a string. "
   ]
  },
  {
   "cell_type": "code",
   "execution_count": 10,
   "metadata": {},
   "outputs": [
    {
     "name": "stdout",
     "output_type": "stream",
     "text": [
      "Obs                int64\n",
      "Product_ID        object\n",
      "Sales_2016       float64\n",
      "Sales_2017       float64\n",
      "Import             int64\n",
      "Num_Retailers      int64\n",
      "Price             object\n",
      "dtype: object\n"
     ]
    }
   ],
   "source": [
    "##Variables format\n",
    "##Convert the product ID column to string format\n",
    "product_sales[\"Product_ID\"] = product_sales[\"Product_ID\"].astype(str)\n",
    "print(product_sales.dtypes)"
   ]
  },
  {
   "cell_type": "code",
   "execution_count": 11,
   "metadata": {},
   "outputs": [
    {
     "data": {
      "text/html": [
       "<div>\n",
       "<style scoped>\n",
       "    .dataframe tbody tr th:only-of-type {\n",
       "        vertical-align: middle;\n",
       "    }\n",
       "\n",
       "    .dataframe tbody tr th {\n",
       "        vertical-align: top;\n",
       "    }\n",
       "\n",
       "    .dataframe thead th {\n",
       "        text-align: right;\n",
       "    }\n",
       "</style>\n",
       "<table border=\"1\" class=\"dataframe\">\n",
       "  <thead>\n",
       "    <tr style=\"text-align: right;\">\n",
       "      <th></th>\n",
       "      <th>Obs</th>\n",
       "      <th>Product_ID</th>\n",
       "      <th>Sales_2016</th>\n",
       "      <th>Sales_2017</th>\n",
       "      <th>Import</th>\n",
       "      <th>Num_Retailers</th>\n",
       "      <th>Price</th>\n",
       "    </tr>\n",
       "  </thead>\n",
       "  <tbody>\n",
       "    <tr>\n",
       "      <th>0</th>\n",
       "      <td>1</td>\n",
       "      <td>001</td>\n",
       "      <td>1162.91</td>\n",
       "      <td>235.19</td>\n",
       "      <td>1</td>\n",
       "      <td>5</td>\n",
       "      <td>67.18</td>\n",
       "    </tr>\n",
       "    <tr>\n",
       "      <th>1</th>\n",
       "      <td>2</td>\n",
       "      <td>002</td>\n",
       "      <td>1191.11</td>\n",
       "      <td>944.87</td>\n",
       "      <td>1</td>\n",
       "      <td>3</td>\n",
       "      <td>54.56</td>\n",
       "    </tr>\n",
       "    <tr>\n",
       "      <th>2</th>\n",
       "      <td>3</td>\n",
       "      <td>003</td>\n",
       "      <td>1214.96</td>\n",
       "      <td>737.06</td>\n",
       "      <td>0</td>\n",
       "      <td>5</td>\n",
       "      <td>58.85</td>\n",
       "    </tr>\n",
       "    <tr>\n",
       "      <th>3</th>\n",
       "      <td>4</td>\n",
       "      <td>004</td>\n",
       "      <td>1336.07</td>\n",
       "      <td>986.15</td>\n",
       "      <td>0</td>\n",
       "      <td>7</td>\n",
       "      <td>56.48</td>\n",
       "    </tr>\n",
       "  </tbody>\n",
       "</table>\n",
       "</div>"
      ],
      "text/plain": [
       "   Obs Product_ID  Sales_2016  Sales_2017  Import  Num_Retailers  Price\n",
       "0    1        001     1162.91      235.19       1              5  67.18\n",
       "1    2        002     1191.11      944.87       1              3  54.56\n",
       "2    3        003     1214.96      737.06       0              5  58.85\n",
       "3    4        004     1336.07      986.15       0              7  56.48"
      ]
     },
     "execution_count": 11,
     "metadata": {},
     "output_type": "execute_result"
    }
   ],
   "source": [
    "## Replace the $ sign in price column and convert it to float\n",
    "product_sales[\"Price\"] =(product_sales[\"Price\"].str.replace('$','')).astype(float)\n",
    "## Fill zeroes in Product_ID \n",
    "l = max(product_sales[\"Product_ID\"].str.len())\n",
    "product_sales[\"Product_ID\"] = product_sales[\"Product_ID\"].str.zfill(l)\n",
    "product_sales.head(4)"
   ]
  },
  {
   "cell_type": "markdown",
   "metadata": {},
   "source": [
    "b.\tTidy the dataset (i.e., make sure all columns are variables, all rows are observations, and there is a single data point in each cell).  "
   ]
  },
  {
   "cell_type": "code",
   "execution_count": 91,
   "metadata": {},
   "outputs": [
    {
     "data": {
      "text/html": [
       "<div>\n",
       "<style scoped>\n",
       "    .dataframe tbody tr th:only-of-type {\n",
       "        vertical-align: middle;\n",
       "    }\n",
       "\n",
       "    .dataframe tbody tr th {\n",
       "        vertical-align: top;\n",
       "    }\n",
       "\n",
       "    .dataframe thead th {\n",
       "        text-align: right;\n",
       "    }\n",
       "</style>\n",
       "<table border=\"1\" class=\"dataframe\">\n",
       "  <thead>\n",
       "    <tr style=\"text-align: right;\">\n",
       "      <th></th>\n",
       "      <th>Obs</th>\n",
       "      <th>Sales_2016</th>\n",
       "      <th>Sales_2017</th>\n",
       "      <th>Import</th>\n",
       "      <th>Num_Retailers</th>\n",
       "      <th>Price</th>\n",
       "    </tr>\n",
       "  </thead>\n",
       "  <tbody>\n",
       "    <tr>\n",
       "      <th>count</th>\n",
       "      <td>200.000000</td>\n",
       "      <td>200.000000</td>\n",
       "      <td>200.0000</td>\n",
       "      <td>200.000000</td>\n",
       "      <td>200.000000</td>\n",
       "      <td>200.000000</td>\n",
       "    </tr>\n",
       "    <tr>\n",
       "      <th>mean</th>\n",
       "      <td>100.500000</td>\n",
       "      <td>1495.347400</td>\n",
       "      <td>1386.2974</td>\n",
       "      <td>0.340000</td>\n",
       "      <td>8.770000</td>\n",
       "      <td>52.126600</td>\n",
       "    </tr>\n",
       "    <tr>\n",
       "      <th>std</th>\n",
       "      <td>57.879185</td>\n",
       "      <td>271.505566</td>\n",
       "      <td>711.1455</td>\n",
       "      <td>0.474898</td>\n",
       "      <td>4.713618</td>\n",
       "      <td>10.472838</td>\n",
       "    </tr>\n",
       "    <tr>\n",
       "      <th>min</th>\n",
       "      <td>1.000000</td>\n",
       "      <td>957.270000</td>\n",
       "      <td>0.0000</td>\n",
       "      <td>0.000000</td>\n",
       "      <td>3.000000</td>\n",
       "      <td>10.950000</td>\n",
       "    </tr>\n",
       "    <tr>\n",
       "      <th>25%</th>\n",
       "      <td>50.750000</td>\n",
       "      <td>1303.692500</td>\n",
       "      <td>934.6825</td>\n",
       "      <td>0.000000</td>\n",
       "      <td>6.000000</td>\n",
       "      <td>45.800000</td>\n",
       "    </tr>\n",
       "    <tr>\n",
       "      <th>50%</th>\n",
       "      <td>100.500000</td>\n",
       "      <td>1439.595000</td>\n",
       "      <td>1328.9600</td>\n",
       "      <td>0.000000</td>\n",
       "      <td>8.000000</td>\n",
       "      <td>52.230000</td>\n",
       "    </tr>\n",
       "    <tr>\n",
       "      <th>75%</th>\n",
       "      <td>150.250000</td>\n",
       "      <td>1638.235000</td>\n",
       "      <td>1848.1750</td>\n",
       "      <td>1.000000</td>\n",
       "      <td>11.000000</td>\n",
       "      <td>58.797500</td>\n",
       "    </tr>\n",
       "    <tr>\n",
       "      <th>max</th>\n",
       "      <td>200.000000</td>\n",
       "      <td>2624.230000</td>\n",
       "      <td>3955.6900</td>\n",
       "      <td>1.000000</td>\n",
       "      <td>29.000000</td>\n",
       "      <td>77.350000</td>\n",
       "    </tr>\n",
       "  </tbody>\n",
       "</table>\n",
       "</div>"
      ],
      "text/plain": [
       "              Obs   Sales_2016  Sales_2017      Import  Num_Retailers  \\\n",
       "count  200.000000   200.000000    200.0000  200.000000     200.000000   \n",
       "mean   100.500000  1495.347400   1386.2974    0.340000       8.770000   \n",
       "std     57.879185   271.505566    711.1455    0.474898       4.713618   \n",
       "min      1.000000   957.270000      0.0000    0.000000       3.000000   \n",
       "25%     50.750000  1303.692500    934.6825    0.000000       6.000000   \n",
       "50%    100.500000  1439.595000   1328.9600    0.000000       8.000000   \n",
       "75%    150.250000  1638.235000   1848.1750    1.000000      11.000000   \n",
       "max    200.000000  2624.230000   3955.6900    1.000000      29.000000   \n",
       "\n",
       "            Price  \n",
       "count  200.000000  \n",
       "mean    52.126600  \n",
       "std     10.472838  \n",
       "min     10.950000  \n",
       "25%     45.800000  \n",
       "50%     52.230000  \n",
       "75%     58.797500  \n",
       "max     77.350000  "
      ]
     },
     "execution_count": 91,
     "metadata": {},
     "output_type": "execute_result"
    }
   ],
   "source": [
    "## Summary of the data\n",
    "product_sales.describe()"
   ]
  },
  {
   "cell_type": "code",
   "execution_count": 77,
   "metadata": {},
   "outputs": [
    {
     "data": {
      "text/plain": [
       "Obs              False\n",
       "Product_ID       False\n",
       "Sales_2016       False\n",
       "Sales_2017       False\n",
       "Import           False\n",
       "Num_Retailers    False\n",
       "Price            False\n",
       "dtype: bool"
      ]
     },
     "execution_count": 77,
     "metadata": {},
     "output_type": "execute_result"
    }
   ],
   "source": [
    "## Check for missing values\n",
    "product_sales.isnull().any()"
   ]
  },
  {
   "cell_type": "markdown",
   "metadata": {},
   "source": [
    "c.\tCreate a visualization of price with appropriate labels"
   ]
  },
  {
   "cell_type": "code",
   "execution_count": 108,
   "metadata": {},
   "outputs": [
    {
     "data": {
      "image/png": "[encoded data removed]",
      "text/plain": [
       "<Figure size 1440x360 with 2 Axes>"
      ]
     },
     "metadata": {},
     "output_type": "display_data"
    }
   ],
   "source": [
    "## Product wise price visualization\n",
    "mp.style.use('seaborn')\n",
    "fig, (ax1,ax2) = mp.subplots(nrows=1, ncols=2, figsize=(20,5))\n",
    "ax1.scatter(product_sales[\"Sales_2017\"],product_sales[\"Price\"])\n",
    "ax1.set_title('Product price vs Sales - 2017')\n",
    "ax1.set_xlabel('Sales_2017')\n",
    "ax1.set_ylabel('Price')\n",
    "      \n",
    "ax2.scatter(product_sales[\"Sales_2016\"],product_sales[\"Price\"])\n",
    "ax2.set_title('Product price vs Sales - 2016')\n",
    "ax2.set_xlabel('Sales_2016')\n",
    "ax2.set_ylabel('Price')    \n",
    "     \n",
    "mp.show()"
   ]
  },
  {
   "cell_type": "markdown",
   "metadata": {},
   "source": [
    "d.\tCalculate the correlation between price and number of retailers (In R: cor()). Produce a scatterplot to visualize it, and explain what the correlation means in practical terms (i.e., to a business owner)  "
   ]
  },
  {
   "cell_type": "code",
   "execution_count": 12,
   "metadata": {},
   "outputs": [
    {
     "name": "stdout",
     "output_type": "stream",
     "text": [
      "Correlation between Price and Num_retailer is -0.05\n"
     ]
    },
    {
     "data": {
      "image/png": "[encoded data removed]",
      "text/plain": [
       "<Figure size 400x400 with 1 Axes>"
      ]
     },
     "metadata": {},
     "output_type": "display_data"
    }
   ],
   "source": [
    "## Correlation between price and number of retailers\n",
    "cor = product_sales['Price'].corr(product_sales['Num_Retailers'])\n",
    "print(f\"Correlation between Price and Num_retailer is {cor:.2f}\")\n",
    "### Scatter plot graph\n",
    "mp.style.use('classic')\n",
    "fig, ax1 = mp.subplots(figsize=(5,5))\n",
    "ax1.scatter(product_sales[\"Num_Retailers\"],product_sales[\"Price\"])\n",
    "ax1.set_title('Product price vs Num_Retailers')\n",
    "ax1.set_xlabel('Num_Retailers')\n",
    "ax1.set_ylabel('Price')\n",
    "\n",
    "mp.show()"
   ]
  },
  {
   "cell_type": "markdown",
   "metadata": {},
   "source": [
    "- There is a small negative correlation between the Price and Number of retailers. \n",
    "- Negative correlation means that with the increase in Price the number of retailer decreases. However, we should note that the correlation coefficient value is very low.\n",
    "- In terms of percentage, we can say that a 5% move higher to Price equates to 5% move lower to Num of retailers"
   ]
  },
  {
   "cell_type": "code",
   "execution_count": null,
   "metadata": {},
   "outputs": [],
   "source": []
  }
 ],
 "metadata": {
  "kernelspec": {
   "display_name": "Python 3",
   "language": "python",
   "name": "python3"
  },
  "language_info": {
   "codemirror_mode": {
    "name": "ipython",
    "version": 3
   },
   "file_extension": ".py",
   "mimetype": "text/x-python",
   "name": "python",
   "nbconvert_exporter": "python",
   "pygments_lexer": "ipython3",
   "version": "3.7.4"
  }
 },
 "nbformat": 4,
 "nbformat_minor": 4
}
